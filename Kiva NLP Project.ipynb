{
 "cells": [
  {
   "cell_type": "code",
   "execution_count": null,
   "metadata": {
    "collapsed": true
   },
   "outputs": [],
   "source": [
    "%pylab inline"
   ]
  },
  {
   "cell_type": "markdown",
   "metadata": {},
   "source": [
    "# Pulling Data from the Kiva API"
   ]
  },
  {
   "cell_type": "code",
   "execution_count": 20,
   "metadata": {
    "collapsed": false
   },
   "outputs": [],
   "source": [
    "\"\"\"\n",
    "Pulling Data from the Kiva API\n",
    "\"\"\"\n",
    "import pandas as pd\n",
    "import json\n",
    "from pprint import pprint\n",
    "import matplotlib.pyplot as plt\n",
    "import requests\n",
    "import tables"
   ]
  },
  {
   "cell_type": "markdown",
   "metadata": {},
   "source": [
    "## Loan Info from the API"
   ]
  },
  {
   "cell_type": "code",
   "execution_count": null,
   "metadata": {
    "collapsed": true
   },
   "outputs": [],
   "source": [
    "### LOAN INFO\n",
    "l = requests.get('http://api.kivaws.org/v1/loans/newest.json') #returns 20 newest loans\n",
    "\n",
    "# check the status: 200 means success, 4xx means error\n",
    "l.status_code"
   ]
  },
  {
   "cell_type": "code",
   "execution_count": null,
   "metadata": {
    "collapsed": true
   },
   "outputs": [],
   "source": [
    "# decode the JSON response body into a dictionary\n",
    "loan = l.json()['loans']\n",
    "loan[0]['status'] #fundraising,funded,in_repayment,paid,defaulted\n",
    "loan[0]['funded_amount'] #amount funded\n",
    "loan[0]['use'] #what funds are used for\n",
    "loan[0]['posted_date'] #date loan was posted\n",
    "loan[0]['basket_amount'] #amount of loan saved in shopping basket\n",
    "loan[0]['description'] #loan description\n",
    "loan[0]['description']['languages'] #languages\n",
    "loan[0]['sector'] #sector loan is for\n",
    "loan[0]['lender_count'] #number of lenders\n",
    "loan[0]['image'] #image ID\n",
    "loan[0]['tags'] #tags for the loan\n",
    "loan[0]['borrower_count'] #number of borrowers\n",
    "loan[0]['bonus_credit_eligibility'] #eligible for bonus credit\n",
    "loan[0]['loan_amount'] #amount of loan\n",
    "loan[0]['location'] #location info\n",
    "loan[0]['location']['town'] #town of loan\n",
    "loan[0]['location']['country'] #country of loan\n",
    "loan[0]['location']['geo'] #geo info\n",
    "loan[0]['location']['country_code'] #country code for loan\n",
    "loan[0]['planned_expiration_date'] #planned expiration date for loan\n",
    "loan[0]['activity'] #what type of activity\n",
    "loan[0]['partner_id'] # partner ID\n",
    "loan[0]['id'] # loan ID\n",
    "loan[0]['name'] #borrower name\n",
    "\n",
    "# displays information for an individual loan\n",
    "loan[1]\n",
    "pprint(loan[1])"
   ]
  },
  {
   "cell_type": "markdown",
   "metadata": {},
   "source": [
    "## Field Partner Info from the API"
   ]
  },
  {
   "cell_type": "code",
   "execution_count": null,
   "metadata": {
    "collapsed": true
   },
   "outputs": [],
   "source": [
    "### FIELD PARTNER INFO\n",
    "f = requests.get('http://api.kivaws.org/v1/partners.json') # returns 20 newest partners\n",
    "\n",
    "# check the status: 200 means success, 4xx means error\n",
    "f.status_code\n",
    "\n",
    "# defining variable for field partners\n",
    "partners = f.json()\n",
    "fp = partners['partners'] \n",
    "\n",
    "# decode the JSON response body into a dictionary\n",
    "fp[0]['status']\n",
    "fp[0]['rating']\n",
    "fp[0]['delinquency_rate']\n",
    "fp[0]['name']\n",
    "fp[0]['average_loan_size_percent_per_capita_income']\n",
    "fp[0]['countries']\n",
    "fp[0]['iso_code']\n",
    "fp[0]['region']\n",
    "fp[0]['name']\n",
    "fp[0]['location']\n",
    "fp[0]['charges_fees_and_interest']\n",
    "fp[0]['image']\n",
    "fp[0]['total_amount_raiised']\n",
    "fp[0]['loans_at_risk_rate']\n",
    "fp[0]['default_rate_note']\n",
    "fp[0]['start_date']\n",
    "fp[0]['default_rate']\n",
    "fp[0]['portfolio_yield_note']\n",
    "fp[0]['currency_loss_rate']\n",
    "fp[0]['delinquency_rate_note']\n",
    "fp[0]['id']\n",
    "fp[0]['loans_posted']\n",
    "\n",
    "# displays information for an individual field partner\n",
    "fp[1]\n",
    "pprint(fp[1])"
   ]
  },
  {
   "cell_type": "markdown",
   "metadata": {},
   "source": [
    "## Lender Info from the API"
   ]
  },
  {
   "cell_type": "code",
   "execution_count": null,
   "metadata": {
    "collapsed": true
   },
   "outputs": [],
   "source": [
    "### LENDER INFO\n",
    "n = requests.get('http://api.kivaws.org/v1/loans/38239/lenders.json')\n",
    "\n",
    "# check the status: 200 means success, 4xx means error\n",
    "n.status_code\n",
    "\n",
    "# defining a variable for lender\n",
    "lenders = n.json()\n",
    "lender = lender['lenders'] \n",
    "\n",
    "# decode the JSON response body into a dictionary\n",
    "lender[0]['country_code']\n",
    "lender[0]['lender_id']\n",
    "lender[0]['name']\n",
    "lender[0]['uid']\n",
    "lender[0]['whereabouts']\n",
    "\n",
    "# displays information for an individual lender\n",
    "pprint(lender[1])\n",
    "lender[1]"
   ]
  },
  {
   "cell_type": "markdown",
   "metadata": {},
   "source": [
    "## Lending Actions from the API"
   ]
  },
  {
   "cell_type": "code",
   "execution_count": null,
   "metadata": {
    "collapsed": true
   },
   "outputs": [],
   "source": [
    "### LENDING ACTIONS\n",
    "a = requests.get('http://api.kivaws.org/v1/lending_actions/recent.json')\n",
    "\n",
    "# check the status: 200 means success, 4xx means error\n",
    "a.status_code\n",
    "\n",
    "# defining a variable for lending actions\n",
    "actions = a.json()\n",
    "action = actions['lending_actions']\n",
    "\n",
    "# decode the JSON response body into a dictionary\n",
    "action[0]['date']\n",
    "action[0]['id']\n",
    "action[0]['lender']['whereabouts']\n",
    "action[0]['lender']['uid']\n",
    "action[0]['lender']['name']\n",
    "action[0]['lender']['lender_id']\n",
    "action[0]['loan']['basket_amount']\n",
    "action[0]['loan']['bonus_credit_eligibility']\n",
    "action[0]['loan']['borrower_count']\n",
    "action[0]['loan']['description']['languages']\n",
    "action[0]['loan']['funded_amount']\n",
    "action[0]['loan']['id']\n",
    "action[0]['loan']['lender_count']\n",
    "action[0]['loan']['loan_amount']\n",
    "action[0]['loan']['location']['country']\n",
    "action[0]['loan']['location']['country_code']\n",
    "action[0]['loan']['location']['town']\n",
    "action[0]['loan']['name']\n",
    "action[0]['loan']['partner_id']\n",
    "action[0]['loan']['planned_expiration_date']\n",
    "action[0]['loan']['posted_date']\n",
    "action[0]['loan']['sector']\n",
    "action[0]['loan']['status']\n",
    "action[0]['loan']['tags']\n",
    "action[0]['loan']['themes']\n",
    "action[0]['loan']['use']\n",
    "\n",
    "# displays information for an individual lender\n",
    "pprint(action[1])\n",
    "action[1]"
   ]
  },
  {
   "cell_type": "markdown",
   "metadata": {},
   "source": [
    "# Loans, Lenders, & Loans Lenders Data from Data Snapshots"
   ]
  },
  {
   "cell_type": "code",
   "execution_count": 14,
   "metadata": {
    "collapsed": false
   },
   "outputs": [],
   "source": [
    "\"\"\"\n",
    "Using Loans, Lenders, and Loans_Lenders Data from Kiva Data Snapshot\n",
    "4/19/16\n",
    "\"\"\"\n",
    "\n",
    "import pandas as pd\n",
    "import json\n",
    "from pprint import pprint\n",
    "import matplotlib.pyplot as plt\n",
    "import tables"
   ]
  },
  {
   "cell_type": "markdown",
   "metadata": {},
   "source": [
    "## Lenders Data Pandas Dataframe from Data Snapshot"
   ]
  },
  {
   "cell_type": "code",
   "execution_count": 19,
   "metadata": {
    "collapsed": false
   },
   "outputs": [
    {
     "ename": "IOError",
     "evalue": "[Errno 2] No such file or directory: '/Users/Isaac1/Google Drive/GW/GW Data VP Ops/Kiva Project/kiva_ds_json/lenders/1999.json'",
     "output_type": "error",
     "traceback": [
      "\u001b[0;31m---------------------------------------------------------------------------\u001b[0m",
      "\u001b[0;31mIOError\u001b[0m                                   Traceback (most recent call last)",
      "\u001b[0;32m<ipython-input-19-bc037194bf68>\u001b[0m in \u001b[0;36m<module>\u001b[0;34m()\u001b[0m\n\u001b[1;32m     49\u001b[0m             \u001b[0mm\u001b[0m \u001b[0;34m=\u001b[0m \u001b[0mm\u001b[0m\u001b[0;34m+\u001b[0m\u001b[0;36m1\u001b[0m \u001b[0;31m# iterate + 1 for while loop\u001b[0m\u001b[0;34m\u001b[0m\u001b[0m\n\u001b[1;32m     50\u001b[0m \u001b[0;34m\u001b[0m\u001b[0m\n\u001b[0;32m---> 51\u001b[0;31m \u001b[0mlenders\u001b[0m\u001b[0;34m(\u001b[0m\u001b[0;34m)\u001b[0m\u001b[0;34m\u001b[0m\u001b[0m\n\u001b[0m\u001b[1;32m     52\u001b[0m \u001b[0;34m\u001b[0m\u001b[0m\n\u001b[1;32m     53\u001b[0m \u001b[0;31m# create a dataframe from our lists\u001b[0m\u001b[0;34m\u001b[0m\u001b[0;34m\u001b[0m\u001b[0m\n",
      "\u001b[0;32m<ipython-input-19-bc037194bf68>\u001b[0m in \u001b[0;36mlenders\u001b[0;34m()\u001b[0m\n\u001b[1;32m     27\u001b[0m     \u001b[0mm\u001b[0m \u001b[0;34m=\u001b[0m \u001b[0;36m0\u001b[0m \u001b[0;31m# while loop index\u001b[0m\u001b[0;34m\u001b[0m\u001b[0m\n\u001b[1;32m     28\u001b[0m     \u001b[0;32mwhile\u001b[0m \u001b[0mm\u001b[0m \u001b[0;34m<\u001b[0m \u001b[0;36m3000\u001b[0m\u001b[0;34m:\u001b[0m\u001b[0;34m\u001b[0m\u001b[0m\n\u001b[0;32m---> 29\u001b[0;31m         \u001b[0;32mwith\u001b[0m \u001b[0mopen\u001b[0m\u001b[0;34m(\u001b[0m\u001b[0;34m'/Users/Isaac1/Google Drive/GW/GW Data VP Ops/Kiva Project/kiva_ds_json/lenders/'\u001b[0m \u001b[0;34m+\u001b[0m \u001b[0mstr\u001b[0m\u001b[0;34m(\u001b[0m\u001b[0mfile_num\u001b[0m\u001b[0;34m)\u001b[0m \u001b[0;34m+\u001b[0m\u001b[0;34m'.json'\u001b[0m\u001b[0;34m)\u001b[0m \u001b[0;32mas\u001b[0m \u001b[0mdata_file\u001b[0m\u001b[0;34m:\u001b[0m\u001b[0;34m\u001b[0m\u001b[0m\n\u001b[0m\u001b[1;32m     30\u001b[0m             \u001b[0mlenders\u001b[0m \u001b[0;34m=\u001b[0m \u001b[0mjson\u001b[0m\u001b[0;34m.\u001b[0m\u001b[0mload\u001b[0m\u001b[0;34m(\u001b[0m\u001b[0mdata_file\u001b[0m\u001b[0;34m)\u001b[0m \u001b[0;31m# locate file, read in\u001b[0m\u001b[0;34m\u001b[0m\u001b[0m\n\u001b[1;32m     31\u001b[0m             \u001b[0mcount\u001b[0m \u001b[0;34m=\u001b[0m \u001b[0;36m0\u001b[0m \u001b[0;31m# set index for number of rows for each file we've read in\u001b[0m\u001b[0;34m\u001b[0m\u001b[0m\n",
      "\u001b[0;31mIOError\u001b[0m: [Errno 2] No such file or directory: '/Users/Isaac1/Google Drive/GW/GW Data VP Ops/Kiva Project/kiva_ds_json/lenders/1999.json'"
     ]
    }
   ],
   "source": [
    "### LENDERS\n",
    "\n",
    "'''\n",
    "Import json data from local files, convert to Pandas Dataframe\n",
    "h/t Joseph - github.com/josephnelson93\n",
    "'''\n",
    "\n",
    "# declare relevant lists\n",
    "country_code = []\n",
    "image = []\n",
    "invitee_count = []\n",
    "inviter_id = []\n",
    "lender_id = []\n",
    "loan_because = []\n",
    "loan_count = []\n",
    "member_since = []\n",
    "name = []\n",
    "occupation = []\n",
    "occupational_info = []\n",
    "personal_url = []\n",
    "uid = []\n",
    "whereabouts = []\n",
    "\n",
    "# Create a while loop that reads each file, and a for loop filling lists with data from json files\n",
    "def lenders():\n",
    "    file_num = 1 # file name number index\n",
    "    m = 0 # while loop index\n",
    "    while m < 3000:\n",
    "        with open('/Users/Isaac1/Google Drive/GW/GW Data VP Ops/Kiva Project/kiva_ds_json/lenders/' + str(file_num) +'.json') as data_file:    \n",
    "            lenders = json.load(data_file) # locate file, read in\n",
    "            count = 0 # set index for number of rows for each file we've read in\n",
    "            for i in lenders['lenders']:      \n",
    "                country_code.append(lenders['lenders'][count]['country_code'])\n",
    "                image.append(lenders['lenders'][count]['image'])\n",
    "                invitee_count.append(lenders['lenders'][count]['invitee_count'])\n",
    "                inviter_id.append(lenders['lenders'][count]['inviter_id'])\n",
    "                lender_id.append(lenders['lenders'][count]['lender_id'])\n",
    "                loan_because.append(lenders['lenders'][count]['loan_because'])\n",
    "                loan_count.append(lenders['lenders'][count]['loan_count'])\n",
    "                member_since.append(lenders['lenders'][count]['member_since'])\n",
    "                name.append(lenders['lenders'][count]['name'])\n",
    "                occupation.append(lenders['lenders'][count]['occupation'])\n",
    "                occupational_info.append(lenders['lenders'][count]['occupational_info'])\n",
    "                personal_url.append(lenders['lenders'][count]['personal_url'])\n",
    "                uid.append(lenders['lenders'][count]['uid'])\n",
    "                whereabouts.append(lenders['lenders'][count]['whereabouts'])\n",
    "                count = count +1 # iterate +1 per row\n",
    "            file_num = file_num + 1 # iterate +1 per file\n",
    "            m = m+1 # iterate + 1 for while loop\n",
    "\n",
    "lenders()\n",
    "\n",
    "# create a dataframe from our lists\n",
    "ld = pd.DataFrame({'country_code' : country_code,\n",
    " 'image' : image,\n",
    " 'invitee_count':invitee_count,\n",
    "  'inviter_id' : inviter_id,\n",
    "  'lender_id':lender_id,\n",
    "  'loan_because':loan_because,\n",
    "  'loan_count':loan_count,\n",
    "  'member_since':member_since,\n",
    "  'name':name,\n",
    "  'occupation':occupation,\n",
    "  'occupational_info':occupational_info,\n",
    "  'personal_url':personal_url,\n",
    "  'uid':uid,\n",
    "  'whereabouts':whereabouts,\n",
    "  })\n",
    "\n",
    "\n",
    "len(country_code) # detemines number of elements in the lists    \n",
    "len(ld.country_code) # check that the length implies success - it does!"
   ]
  },
  {
   "cell_type": "markdown",
   "metadata": {},
   "source": [
    "### Write and Read Lenders Data into CSV, JSON, and HDF5"
   ]
  },
  {
   "cell_type": "code",
   "execution_count": null,
   "metadata": {
    "collapsed": true
   },
   "outputs": [],
   "source": [
    "# write pandas dataframe to CSV\n",
    "ld.to_csv('/Users/Isaac1/Google Drive/GW/GW Data VP Ops/Kiva Project/data sets/lenders_data.csv', encoding='utf-8')\n",
    "\n",
    "# read CSV file into dataframe\n",
    "ld = pd.read_csv('/Users/Isaac1/Google Drive/GW/GW Data VP Ops/Kiva Project/data sets/lenders_data.csv', encoding='utf-8')\n",
    "len(ld.country_code) # verify the length of the imported dataframe\n",
    "\n",
    "# write pandas datafram to JSON\n",
    "ld.to_json('/Users/Isaac1/Google Drive/GW/GW Data VP Ops/Kiva Project/data sets/lenders_data.json')\n",
    "\n",
    "# read JSON file into dataframe\n",
    "ld = pd.read_json('/Users/Isaac1/Google Drive/GW/GW Data VP Ops/Kiva Project/data sets/lenders_data.json')\n",
    "len(ld.country_code) # verify the length of the imported dataframe\n",
    "\n",
    "# write pandas datafram to HDF5 (quickest write/read)\n",
    "store = pd.HDFStore(\"/Users/Isaac1/Google Drive/GW/GW Data VP Ops/Kiva Project/data sets/lenders_data.h5\", \"w\", complib=str(\"zlib\"), complevel=5)\n",
    "store.put(\"dataframe\", ld, data_columns=ld.columns)\n",
    "store.close()\n",
    "\n",
    "# read HDF file into dataframe\n",
    "ld = pd.read_hdf('/Users/Isaac1/Google Drive/GW/GW Data VP Ops/Kiva Project/data sets/lenders_data.h5')\n",
    "ld.head()\n",
    "len(ld.country_code) # verify the length of the imported dataframe"
   ]
  },
  {
   "cell_type": "markdown",
   "metadata": {},
   "source": [
    "### Explore Contents of a Single Lenders JSON File"
   ]
  },
  {
   "cell_type": "code",
   "execution_count": null,
   "metadata": {
    "collapsed": true
   },
   "outputs": [],
   "source": [
    "# Exploring the contents of a single Lenders JSON file\n",
    "with open('/Users/Isaac1/Google Drive/GW/GW Data VP Ops/Kiva Project/kiva_ds_json/lenders/1.json') as data_file:\n",
    "    lender1 = json.load(data_file) # locate file, read in\n",
    "ld1 = lender1['lenders'][1]\n",
    "pprint(ld1)"
   ]
  },
  {
   "cell_type": "markdown",
   "metadata": {},
   "source": [
    "## Loans Data Pandas Dataframe from Data Snapshot"
   ]
  },
  {
   "cell_type": "code",
   "execution_count": null,
   "metadata": {
    "collapsed": true
   },
   "outputs": [],
   "source": [
    "### LOANS\n",
    "\n",
    "# declare relevant lists\n",
    "activity = []\n",
    "basket_amount = []\n",
    "bonus_credit_eligibility = []\n",
    "currency_exchange_loss_amount = []\n",
    "delinquent = []\n",
    "description = []\n",
    "desc_language = []\n",
    "funded_amount = []\n",
    "funded_date = []\n",
    "loan_id = []\n",
    "lender_count = []\n",
    "loan_amount = []\n",
    "country = []\n",
    "country_code = []\n",
    "town = []\n",
    "name = []\n",
    "paid_amount = []\n",
    "paid_date = []\n",
    "partner_id = []\n",
    "planned_expiration_date = []\n",
    "posted_date = []\n",
    "sector = []\n",
    "status = []\n",
    "tags = []\n",
    "disbursal_amount = []\n",
    "disbursal_currency = []\n",
    "disbursal_date = []\n",
    "repayment_interval = []\n",
    "repayment_term = []\n",
    "themes = []\n",
    "translator = []\n",
    "use = []\n",
    "\n",
    "# Create a while loop that reads each file, and a for loop filling lists with data from json files\n",
    "def loans():\n",
    "    file_num = 0 # file name number index\n",
    "    m = 0 # while loop index\n",
    "    while m < 2500:\n",
    "        with open('/Users/Isaac1/Google Drive/GW/GW Data VP Ops/Kiva Project/kiva_ds_json/loans/' + str(file_num) +'.json') as data_file:            \n",
    "            loans = json.load(data_file) # locate file, read in\n",
    "            count = 0 # set index for number of rows for each file we've read in\n",
    "            for i in loans['loans']:\n",
    "                activity.append(loans['loans'][count]['activity'])\n",
    "                basket_amount.append(loans['loans'][count]['basket_amount'])\n",
    "                bonus_credit_eligibility.append(loans['loans'][count]['bonus_credit_eligibility'])\n",
    "                currency_exchange_loss_amount.append(loans['loans'][count]['currency_exchange_loss_amount'])\n",
    "                delinquent.append(loans['loans'][count]['delinquent'])\n",
    "                description.append(loans['loans'][count]['description']['texts'])\n",
    "                desc_language.append(loans['loans'][count]['description']['languages'])\n",
    "                funded_amount.append(loans['loans'][count]['funded_amount'])\n",
    "                funded_date.append(loans['loans'][count]['funded_date'])\n",
    "                loan_id.append(loans['loans'][count]['id'])\n",
    "                lender_count.append(loans['loans'][count]['lender_count'])\n",
    "                loan_amount.append(loans['loans'][count]['loan_amount'])\n",
    "                country.append(loans['loans'][count]['location']['country'])\n",
    "                country_code.append(loans['loans'][count]['location']['country_code'])\n",
    "                town.append(loans['loans'][count]['location']['town'])\n",
    "                name.append(loans['loans'][count]['name'])\n",
    "                paid_amount.append(loans['loans'][count]['paid_amount'])\n",
    "                paid_date.append(loans['loans'][count]['paid_date'])\n",
    "                partner_id.append(loans['loans'][count]['partner_id'])\n",
    "                planned_expiration_date.append(loans['loans'][count]['planned_expiration_date'])\n",
    "                posted_date.append(loans['loans'][count]['posted_date'])\n",
    "                sector.append(loans['loans'][count]['sector'])\n",
    "                status.append(loans['loans'][count]['status'])\n",
    "                tags.append(loans['loans'][count]['tags'])\n",
    "                disbursal_amount.append(loans['loans'][count]['terms']['disbursal_amount'])\n",
    "                disbursal_currency.append(loans['loans'][count]['terms']['disbursal_currency'])\n",
    "                disbursal_date.append(loans['loans'][count]['terms']['disbursal_date'])\n",
    "                repayment_interval.append(loans['loans'][count]['terms']['repayment_interval'])\n",
    "                repayment_term.append(loans['loans'][count]['terms']['repayment_term'])\n",
    "                themes.append(loans['loans'][count]['themes'])\n",
    "                translator.append(loans['loans'][count]['translator'])\n",
    "                use.append(loans['loans'][count]['use'])\n",
    "                count = count + 1 # iterate +1 per row\n",
    "            file_num = file_num + 1 # iterate +1 per file\n",
    "            m = m+1 # iterate + 1 for while loop\n",
    "\n",
    "loans()\n",
    "\n",
    "l = pd.DataFrame({'activity' : activity,\n",
    "    'basket_amount' : basket_amount, ## many None results & makes lists 2X as much data\n",
    "    'bonus_credit_eligibility' : bonus_credit_eligibility,\n",
    "    'currency_exchange_loss_amount' : currency_exchange_loss_amount, ## many None results & makes lists 2X as much data\n",
    "    'delinquent' : delinquent, ## many None results & makes lists 2X as much data\n",
    "    'description' : description,\n",
    "    'desc_language' : desc_language,\n",
    "    'funded_amount' : funded_amount,\n",
    "    'funded_date' : funded_date,\n",
    "    'loan_id' : loan_id,\n",
    "    'lender_count' : lender_count,\n",
    "    'loan_amount' : loan_amount,\n",
    "    'country' : country,\n",
    "    'country_code' : country_code,\n",
    "    'town' : town,\n",
    "    'name' : name,\n",
    "    'paid_amount' : paid_amount,\n",
    "    'paid_date' : paid_date,\n",
    "    'partner_id' : partner_id,\n",
    "    'planned_expiration_date' : planned_expiration_date,\n",
    "    'posted_date' : posted_date,\n",
    "    'sector' : sector,\n",
    "    'status' : status,\n",
    "    'tags' : tags,\n",
    "    'disbursal_amount' : disbursal_amount,\n",
    "    'disbursal_currency' : disbursal_currency,\n",
    "    'disbursal_date' : disbursal_date,\n",
    "    'repayment_interval' : repayment_interval,\n",
    "    'repayment_term' : repayment_term,\n",
    "    'themes' : themes,\n",
    "    'translator' : translator,\n",
    "    'use' : use,\n",
    "  })\n",
    "\n",
    "# determine number of elements in the data frame\n",
    "len(activity)\n",
    "len(l.activity) # check that the length implies success - it does!"
   ]
  },
  {
   "cell_type": "markdown",
   "metadata": {},
   "source": [
    "### Write and Read Loans Data into CSV, JSON, and HDF5"
   ]
  },
  {
   "cell_type": "code",
   "execution_count": null,
   "metadata": {
    "collapsed": true
   },
   "outputs": [],
   "source": [
    "# write pandas dataframe to CSV\n",
    "l.to_csv('/Users/Isaac1/Google Drive/GW/GW Data VP Ops/Kiva Project/data sets/loans_data.csv', encoding='utf-8')\n",
    "\n",
    "# read CSV file into dataframe\n",
    "l = pd.read_csv('/Users/Isaac1/Google Drive/GW/GW Data VP Ops/Kiva Project/data sets/loans_data.csv', encoding='utf-8')\n",
    "\n",
    "# write pandas datafram to JSON\n",
    "l.to_json('/Users/Isaac1/Google Drive/GW/GW Data VP Ops/Kiva Project/data sets/loans_data.json')\n",
    "\n",
    "# read JSON file into dataframe\n",
    "l = pd.read_json('/Users/Isaac1/Google Drive/GW/GW Data VP Ops/Kiva Project/data sets/loans_data.json')\n",
    "\n",
    "# write pandas datafram to HDF5 (quickest write/read)\n",
    "store = pd.HDFStore(\"/Users/Isaac1/Google Drive/GW/GW Data VP Ops/Kiva Project/data sets/loans_data.h5\", \"w\", complib=str(\"zlib\"), complevel=5)\n",
    "store.put(\"dataframe\", l, data_columns=l.columns)\n",
    "store.close()\n",
    "\n",
    "# read HDF file into dataframe\n",
    "l = pd.read_hdf('/Users/Isaac1/Google Drive/GW/GW Data VP Ops/Kiva Project/data sets/loans_data.h5')\n",
    "\n",
    "# verify the length of the imported dataframe\n",
    "len(l.activity)"
   ]
  },
  {
   "cell_type": "markdown",
   "metadata": {},
   "source": [
    "### Explore Contents of a Single Lenders JSON File"
   ]
  },
  {
   "cell_type": "code",
   "execution_count": null,
   "metadata": {
    "collapsed": true
   },
   "outputs": [],
   "source": [
    "# Exploring the contents of a single Loans JSON file\n",
    "with open('/Users/Isaac1/Google Drive/GW/GW Data VP Ops/Kiva Project/kiva_ds_json/loans/1.json') as data_file:\n",
    "    loan1 = json.load(data_file) # locate file, read in\n",
    "l1 = loan1['loans'][9]\n",
    "pprint(l1)\n",
    "\n",
    "l1['description']['texts']['en'] #only english description"
   ]
  },
  {
   "cell_type": "markdown",
   "metadata": {},
   "source": [
    "# Loans-Lenders Data Pandas Dataframe from Data Snapshot"
   ]
  },
  {
   "cell_type": "code",
   "execution_count": null,
   "metadata": {
    "collapsed": true
   },
   "outputs": [],
   "source": [
    "### LOANS_LENDERS\n",
    "\n",
    "# declare relevant lists\n",
    "loan_id = []\n",
    "lender_id = []\n",
    "\n",
    "# Create a while loop that reads each file, and a for loop filling lists with data from json files\n",
    "def loans_lenders():\n",
    "    file_num = 1 # file name number index\n",
    "    m = 0 # while loop index\n",
    "    while m < 2500:\n",
    "        with open('/Users/Isaac1/Google Drive/GW/GW Data VP Ops/Kiva Project/kiva_ds_json/loans_lenders/' + str(file_num) +'.json') as data_file:            \n",
    "            loans_lenders = json.load(data_file) # locate file, read in\n",
    "            count = 0 # set index for number of rows for each file we've read in\n",
    "            for i in loans_lenders['loans_lenders']:\n",
    "                loan_id.append(loans_lenders['loans_lenders'][count]['id'])\n",
    "                lender_id.append(loans_lenders['loans_lenders'][count]['lender_ids'])\n",
    "                count = count +1 # iterate +1 per row\n",
    "            file_num = file_num + 1 # iterate +1 per file\n",
    "            m = m+1 # iterate + 1 for while loop\n",
    "\n",
    "loans_lenders()\n",
    "len(loan_id) # checks length of elements in the lists\n",
    "\n",
    "# create a dataframe for loan lender data\n",
    "ll = pd.DataFrame({'loan_id' : loan_id,\n",
    "'lender_id' : lender_id, })\n",
    "  \n",
    "len(ll.loan_id) # check that the length implies success - it does!"
   ]
  },
  {
   "cell_type": "markdown",
   "metadata": {},
   "source": [
    "### Write and Read Loans-Lenders Data into CSV, JSON, and HDF5"
   ]
  },
  {
   "cell_type": "code",
   "execution_count": null,
   "metadata": {
    "collapsed": true
   },
   "outputs": [],
   "source": [
    "# write pandas dataframe to CSV\n",
    "ll.to_csv('/Users/Isaac1/Google Drive/GW/GW Data VP Ops/Kiva Project/data sets/loans_lenders_data.csv', encoding='utf-8')\n",
    "\n",
    "# read CSV file into dataframe\n",
    "ll = pd.read_csv('/Users/Isaac1/Google Drive/GW/GW Data VP Ops/Kiva Project/data sets/loans_lenders_data.csv', encoding='utf-8')\n",
    "\n",
    "# write pandas datafram to JSON\n",
    "ll.to_json('/Users/Isaac1/Google Drive/GW/GW Data VP Ops/Kiva Project/data sets/loans_lenders_data.json')\n",
    "\n",
    "# read JSON file into dataframe\n",
    "ll = pd.read_json('/Users/Isaac1/Google Drive/GW/GW Data VP Ops/Kiva Project/data sets/loans_lenders_data.json')\n",
    "\n",
    "# write pandas datafram to HDF5 (quickest write/read)\n",
    "store = pd.HDFStore(\"/Users/Isaac1/Google Drive/GW/GW Data VP Ops/Kiva Project/data sets/loans_lenders_data.h5\", \"w\", complib=str(\"zlib\"), complevel=5)\n",
    "store.put(\"dataframe\", ll, data_columns=ll.columns)\n",
    "store.close()\n",
    "\n",
    "# read HDF file into dataframe\n",
    "ll = pd.read_hdf('/Users/Isaac1/Google Drive/GW/GW Data VP Ops/Kiva Project/data sets/loans_lenders_data.h5')\n",
    "\n",
    "# verify the length of the imported dataframe\n",
    "len(ll.loan_id)"
   ]
  }
 ],
 "metadata": {
  "kernelspec": {
   "display_name": "Python 2",
   "language": "python",
   "name": "python2"
  },
  "language_info": {
   "codemirror_mode": {
    "name": "ipython",
    "version": 2
   },
   "file_extension": ".py",
   "mimetype": "text/x-python",
   "name": "python",
   "nbconvert_exporter": "python",
   "pygments_lexer": "ipython2",
   "version": "2.7.11"
  }
 },
 "nbformat": 4,
 "nbformat_minor": 0
}
